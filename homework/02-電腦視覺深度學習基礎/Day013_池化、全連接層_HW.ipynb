{
 "cells": [
  {
   "cell_type": "markdown",
   "metadata": {},
   "source": [
    "## 『作業內容』\n",
    "####   依照指示，搭建Maxpooling層與全連接層"
   ]
  },
  {
   "cell_type": "markdown",
   "metadata": {},
   "source": [
    "## 『目標』\n",
    "####   了解Maxpooling的原理與CNN、FC層連結的方式"
   ]
  },
  {
   "cell_type": "code",
   "execution_count": 20,
   "metadata": {},
   "outputs": [],
   "source": [
    "from keras.models import Sequential  #用來啟動 NN\n",
    "from keras.layers import Conv2D  # Convolution Operation\n",
    "from keras.layers import MaxPooling2D # Pooling\n",
    "from keras.layers import Flatten\n",
    "from keras.layers import Dense # Fully Connected Networks\n",
    "from keras.layers import GlobalAveragePooling2D"
   ]
  },
  {
   "cell_type": "code",
   "execution_count": 18,
   "metadata": {
    "colab": {},
    "colab_type": "code",
    "id": "43xxX0yJxiDr"
   },
   "outputs": [],
   "source": [
    "# Nelson: 與解答不一樣，strides應定義在MaxPooling2D\n",
    "\n",
    "input_shape = (32, 32, 3)\n",
    "\n",
    "model = Sequential()\n",
    "\n",
    "model.add(Conv2D(32, kernel_size=(3, 3), padding='same', strides=(2, 2),input_shape=input_shape))\n",
    "model.add(MaxPooling2D((2, 2)))  ##pooling_size=2,2 strides=2,2 輸出feature map 大小為多少？\n",
    "\n",
    "model.add(Conv2D(64, kernel_size=(3, 3), padding='same', strides=(2, 2)))\n",
    "model.add(MaxPooling2D((2, 2)))##pooling_size=2,2 strides=2,2 輸出feature map 大小為多少？\n",
    "\n",
    "model.add(Conv2D(128, kernel_size=(3, 3), padding='same', strides=(1, 1)))\n",
    "model.add(MaxPooling2D((1, 1)))##pooling_size=1,1 strides=1,1 輸出feature map 大小為多少？\n",
    "\n",
    "model.add(Conv2D(10, kernel_size=(3, 3), padding='same'))\n",
    "model.add(Flatten()) ##Flatten完尺寸如何變化？ # Nelson: 308\n",
    "# model.add(GlobalAveragePooling2D()) #關掉Flatten，使用GlobalAveragePooling2D，完尺寸如何變化？ # Nelson: 1148\n",
    "\n",
    "model.add(Dense(28)) ##全連接層使用28個units"
   ]
  },
  {
   "cell_type": "code",
   "execution_count": 19,
   "metadata": {
    "colab": {},
    "colab_type": "code",
    "id": "nFgU3mB-xiDt",
    "outputId": "6fb884fa-75ad-4b47-b5c6-1fc948b2d614"
   },
   "outputs": [
    {
     "name": "stdout",
     "output_type": "stream",
     "text": [
      "_________________________________________________________________\n",
      "Layer (type)                 Output Shape              Param #   \n",
      "=================================================================\n",
      "conv2d_37 (Conv2D)           (None, 16, 16, 32)        896       \n",
      "_________________________________________________________________\n",
      "max_pooling2d_28 (MaxPooling (None, 8, 8, 32)          0         \n",
      "_________________________________________________________________\n",
      "conv2d_38 (Conv2D)           (None, 4, 4, 64)          18496     \n",
      "_________________________________________________________________\n",
      "max_pooling2d_29 (MaxPooling (None, 2, 2, 64)          0         \n",
      "_________________________________________________________________\n",
      "conv2d_39 (Conv2D)           (None, 2, 2, 128)         73856     \n",
      "_________________________________________________________________\n",
      "max_pooling2d_30 (MaxPooling (None, 2, 2, 128)         0         \n",
      "_________________________________________________________________\n",
      "conv2d_40 (Conv2D)           (None, 2, 2, 10)          11530     \n",
      "_________________________________________________________________\n",
      "flatten_7 (Flatten)          (None, 40)                0         \n",
      "_________________________________________________________________\n",
      "dense_9 (Dense)              (None, 28)                1148      \n",
      "=================================================================\n",
      "Total params: 105,926\n",
      "Trainable params: 105,926\n",
      "Non-trainable params: 0\n",
      "_________________________________________________________________\n"
     ]
    }
   ],
   "source": [
    "model.summary()"
   ]
  },
  {
   "cell_type": "code",
   "execution_count": 28,
   "metadata": {},
   "outputs": [
    {
     "name": "stdout",
     "output_type": "stream",
     "text": [
      "_________________________________________________________________\n",
      "Layer (type)                 Output Shape              Param #   \n",
      "=================================================================\n",
      "conv2d_69 (Conv2D)           (None, 32, 32, 32)        896       \n",
      "_________________________________________________________________\n",
      "max_pooling2d_52 (MaxPooling (None, 16, 16, 32)        0         \n",
      "_________________________________________________________________\n",
      "conv2d_70 (Conv2D)           (None, 16, 16, 64)        18496     \n",
      "_________________________________________________________________\n",
      "max_pooling2d_53 (MaxPooling (None, 8, 8, 64)          0         \n",
      "_________________________________________________________________\n",
      "conv2d_71 (Conv2D)           (None, 8, 8, 128)         73856     \n",
      "_________________________________________________________________\n",
      "max_pooling2d_54 (MaxPooling (None, 8, 8, 128)         0         \n",
      "_________________________________________________________________\n",
      "conv2d_72 (Conv2D)           (None, 8, 8, 10)          11530     \n",
      "_________________________________________________________________\n",
      "global_average_pooling2d_6 ( (None, 10)                0         \n",
      "_________________________________________________________________\n",
      "dense_17 (Dense)             (None, 28)                308       \n",
      "=================================================================\n",
      "Total params: 105,086\n",
      "Trainable params: 105,086\n",
      "Non-trainable params: 0\n",
      "_________________________________________________________________\n"
     ]
    }
   ],
   "source": [
    "# Nelson: (GAP: 全局池化層)https://www.cnblogs.com/hutao722/p/10008581.html\n",
    "\n",
    "input_shape = (32, 32, 3)\n",
    "\n",
    "model = Sequential()\n",
    "\n",
    "model.add(Conv2D(32, kernel_size=(3, 3), padding='same',input_shape=input_shape))\n",
    "model.add(MaxPooling2D(pool_size=(2, 2),strides=(2, 2)))  ##pooling_size=2,2 strides=2,2 輸出feature map 大小為多少？\n",
    "\n",
    "model.add(Conv2D(64, kernel_size=(3, 3), padding='same'))\n",
    "model.add(MaxPooling2D(pool_size=(2, 2),strides=(2, 2)))##pooling_size=2,2 strides=2,2 輸出feature map 大小為多少？\n",
    "\n",
    "model.add(Conv2D(128, kernel_size=(3, 3), padding='same'))\n",
    "model.add(MaxPooling2D(pool_size=(1, 1),strides=(1, 1)))##pooling_size=1,1 strides=1,1 輸出feature map 大小為多少？\n",
    "\n",
    "model.add(Conv2D(10, kernel_size=(3, 3), padding='same'))\n",
    "# model.add(Flatten()) ##Flatten完尺寸如何變化？ # Nelson: 17948\n",
    "model.add(GlobalAveragePooling2D()) #關掉Flatten，使用GlobalAveragePooling2D，完尺寸如何變化？ # Nelson: 308\n",
    "\n",
    "model.add(Dense(28)) ##全連接層使用28個units\n",
    "\n",
    "model.summary()"
   ]
  }
 ],
 "metadata": {
  "colab": {
   "name": "池化、全連接層.ipynb",
   "provenance": []
  },
  "kernelspec": {
   "display_name": "Python 3",
   "language": "python",
   "name": "python3"
  },
  "language_info": {
   "codemirror_mode": {
    "name": "ipython",
    "version": 3
   },
   "file_extension": ".py",
   "mimetype": "text/x-python",
   "name": "python",
   "nbconvert_exporter": "python",
   "pygments_lexer": "ipython3",
   "version": "3.6.6"
  }
 },
 "nbformat": 4,
 "nbformat_minor": 1
}
