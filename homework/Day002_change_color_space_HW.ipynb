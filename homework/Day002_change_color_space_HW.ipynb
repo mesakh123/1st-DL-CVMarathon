{
 "cells": [
  {
   "cell_type": "markdown",
   "metadata": {},
   "source": [
    "# 作業\n",
    "\n",
    "使用 [Lena](http://optipng.sourceforge.net/pngtech/img/lena.png)\n",
    "\n",
    "- 改變圖片的 color space (`HLS`, `LAB`) 並呈現"
   ]
  },
  {
   "cell_type": "code",
   "execution_count": 6,
   "metadata": {},
   "outputs": [
    {
     "name": "stdout",
     "output_type": "stream",
     "text": [
      "img.shape = (512, 512, 3)\n"
     ]
    }
   ],
   "source": [
    "import cv2\n",
    "import numpy as np\n",
    "\n",
    "img_path = \"data/lena.png\"\n",
    "img = cv2.imread(img_path, cv2.IMREAD_COLOR)\n",
    "print(\"img.shape = {}\".format(img.shape))\n",
    "imgs = (img\n",
    "        , cv2.cvtColor(img, cv2.COLOR_BGR2HSV)\n",
    "        , cv2.cvtColor(img, cv2.COLOR_BGR2HLS)\n",
    "        , cv2.cvtColor(img, cv2.COLOR_BGR2LAB))\n",
    "img_concat = np.hstack(imgs)\n",
    "cv2.imshow(\"img_concat\", img_concat)\n",
    "cv2.waitKey(0)\n",
    "cv2.destroyAllWindows()"
   ]
  },
  {
   "cell_type": "code",
   "execution_count": null,
   "metadata": {},
   "outputs": [],
   "source": []
  }
 ],
 "metadata": {
  "kernelspec": {
   "display_name": "Python 3",
   "language": "python",
   "name": "python3"
  },
  "language_info": {
   "codemirror_mode": {
    "name": "ipython",
    "version": 3
   },
   "file_extension": ".py",
   "mimetype": "text/x-python",
   "name": "python",
   "nbconvert_exporter": "python",
   "pygments_lexer": "ipython3",
   "version": "3.6.6"
  }
 },
 "nbformat": 4,
 "nbformat_minor": 2
}
